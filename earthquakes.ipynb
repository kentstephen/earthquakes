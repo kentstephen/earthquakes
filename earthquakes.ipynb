{
 "cells": [
  {
   "cell_type": "code",
   "execution_count": null,
   "metadata": {},
   "outputs": [],
   "source": [
    "! pip install pandas geopandas shapely keplergl -q"
   ]
  },
  {
   "cell_type": "markdown",
   "metadata": {},
   "source": [
    "# Earthquakes from the US Geological Survey\n",
    "We are going to download and visualize"
   ]
  },
  {
   "cell_type": "code",
   "execution_count": 1,
   "metadata": {},
   "outputs": [
    {
     "name": "stdout",
     "output_type": "stream",
     "text": [
      "                       time                     geometry   mag  depth  \\\n",
      "0  2024-09-17T18:17:27.990Z    POINT (-116.918 33.65033)  0.96  12.35   \n",
      "1  2024-09-17T18:08:36.050Z  POINT (-122.22567 37.80483)  2.44   8.98   \n",
      "2  2024-09-17T18:07:55.604Z    POINT (-139.6267 60.2009)  1.60   3.10   \n",
      "3  2024-09-17T18:06:56.377Z    POINT (-152.3411 59.1734)  1.90  61.10   \n",
      "4  2024-09-17T18:03:54.500Z      POINT (-116.956 32.898)  1.21   3.29   \n",
      "\n",
      "   mag_value  \n",
      "0       96.0  \n",
      "1      244.0  \n",
      "2      160.0  \n",
      "3      190.0  \n",
      "4      121.0  \n"
     ]
    }
   ],
   "source": [
    "import pandas as pd\n",
    "import geopandas as gpd\n",
    "from shapely.geometry import Point\n",
    "\n",
    "\n",
    "# Load the earthquake data\n",
    "df = pd.read_csv('https://earthquake.usgs.gov/earthquakes/feed/v1.0/summary/all_month.csv')\n",
    "\n",
    "# Convert the DataFrame to a GeoDataFrame\n",
    "df['geometry'] = df.apply(lambda row: Point(row['longitude'], row['latitude']), axis=1)\n",
    "\n",
    "# Aggregate the magnitude to help visualize\n",
    "df[\"mag_value\"] = abs(df[\"mag\"]) * 100\n",
    "\n",
    "df = df[['time','geometry', 'mag', 'depth', 'mag_value']]\n",
    "\n",
    "# Create GeoDataFrame\n",
    "gdf = gpd.GeoDataFrame(df, geometry='geometry')\n",
    "\n",
    "# Set the CRS to WGS84 (EPSG:4326)\n",
    "gdf.set_crs(epsg=4326, inplace=True)\n",
    "\n",
    "# Display the first few rows to confirm the cleaning process\n",
    "print(gdf.head())\n"
   ]
  },
  {
   "cell_type": "markdown",
   "metadata": {},
   "source": [
    "Optionally, if you want to save the data and use in [Kepler.gl](kepler.gl) or [Four Square Studio](https://studio.foursquare.com/) you can uncomment and run this line:"
   ]
  },
  {
   "cell_type": "code",
   "execution_count": null,
   "metadata": {},
   "outputs": [],
   "source": [
    "# gdf.to_file('eathquakes.geojson', driver=\"GeoJSON\")"
   ]
  },
  {
   "cell_type": "markdown",
   "metadata": {},
   "source": [
    "Run this to get the map I set up:"
   ]
  },
  {
   "cell_type": "code",
   "execution_count": 2,
   "metadata": {},
   "outputs": [],
   "source": [
    "kepler_config = {'version': 'v1', 'config': {'visState': {'filters': [], 'layers': [{'id': 'e3iltfr', 'type': 'geojson', 'config': {'dataId': 'Earthquakes', 'label': 'Earthquakes', 'color': [241, 92, 23], 'highlightColor': [252, 242, 26, 255], 'columns': {'geojson': 'geometry'}, 'isVisible': True, 'visConfig': {'opacity': 0.51, 'strokeOpacity': 0.8, 'thickness': 0.5, 'strokeColor': None, 'colorRange': {'name': 'ColorBrewer Oranges-9', 'type': 'singlehue', 'category': 'ColorBrewer', 'colors': ['#fff5eb', '#fee6ce', '#fdd0a2', '#fdae6b', '#fd8d3c', '#f16913', '#d94801', '#a63603', '#7f2704']}, 'strokeColorRange': {'name': 'Global Warming', 'type': 'sequential', 'category': 'Uber', 'colors': ['#5A1846', '#900C3F', '#C70039', '#E3611C', '#F1920E', '#FFC300']}, 'radius': 10, 'sizeRange': [0, 10], 'radiusRange': [0, 100], 'heightRange': [0, 500], 'elevationScale': 5, 'enableElevationZoomFactor': True, 'stroked': True, 'filled': True, 'enable3d': False, 'wireframe': False}, 'hidden': False, 'textLabel': [{'field': None, 'color': [255, 255, 255], 'size': 18, 'offset': [0, 0], 'anchor': 'start', 'alignment': 'center'}]}, 'visualChannels': {'colorField': {'name': 'mag_value', 'type': 'real'}, 'colorScale': 'quantile', 'strokeColorField': None, 'strokeColorScale': 'quantile', 'sizeField': None, 'sizeScale': 'linear', 'heightField': None, 'heightScale': 'linear', 'radiusField': {'name': 'mag_value', 'type': 'real'}, 'radiusScale': 'sqrt'}}], 'interactionConfig': {'tooltip': {'fieldsToShow': {'Earthquakes': [{'name': 'time', 'format': None}, {'name': 'mag', 'format': None}, {'name': 'depth', 'format': None}, {'name': 'mag_value', 'format': None}]}, 'compareMode': False, 'compareType': 'absolute', 'enabled': True}, 'brush': {'size': 0.5, 'enabled': False}, 'geocoder': {'enabled': False}, 'coordinate': {'enabled': False}}, 'layerBlending': 'normal', 'splitMaps': [], 'animationConfig': {'currentTime': None, 'speed': 1}}, 'mapState': {'bearing': 0, 'dragRotate': False, 'latitude': 33.675672229699764, 'longitude': -117.63364321134047, 'pitch': 0, 'zoom': 6.716699698334183, 'isSplit': False}, 'mapStyle': {'styleType': 'dark', 'topLayerGroups': {'label': True}, 'visibleLayerGroups': {'label': True, 'road': True, 'border': False, 'building': True, 'water': True, 'land': True, '3d building': False}, 'threeDBuildingColor': [9.665468314072013, 17.18305478057247, 31.1442867897876], 'mapStyles': {}}}}"
   ]
  },
  {
   "cell_type": "markdown",
   "metadata": {},
   "source": [
    "I have to restart VSCode after installing keplergl in order for it to render.\n",
    "\n",
    "Here we are visualizing magnitude by size and color using the `mag_value` to help Kepler."
   ]
  },
  {
   "cell_type": "code",
   "execution_count": 3,
   "metadata": {},
   "outputs": [
    {
     "name": "stdout",
     "output_type": "stream",
     "text": [
      "User Guide: https://docs.kepler.gl/docs/keplergl-jupyter\n"
     ]
    },
    {
     "data": {
      "application/vnd.jupyter.widget-view+json": {
       "model_id": "2ecb7c894391461080784ed44257d535",
       "version_major": 2,
       "version_minor": 0
      },
      "text/plain": [
       "KeplerGl(config={'version': 'v1', 'config': {'visState': {'filters': [], 'layers': [{'id': 'e3iltfr', 'type': …"
      ]
     },
     "metadata": {},
     "output_type": "display_data"
    }
   ],
   "source": [
    "# Load an empty map\n",
    "from keplergl import KeplerGl\n",
    "\n",
    "# Create an instance of KeplerGl\n",
    "map_1 = KeplerGl()\n",
    "\n",
    "# Add your data to the map\n",
    "map_1.add_data(data=gdf, name='Earthquakes')\n",
    "\n",
    "map_1.config = kepler_config\n",
    "# Display the map\n",
    "map_1"
   ]
  },
  {
   "cell_type": "code",
   "execution_count": 8,
   "metadata": {},
   "outputs": [
    {
     "name": "stdout",
     "output_type": "stream",
     "text": [
      "{'version': 'v1', 'config': {'visState': {'filters': [], 'layers': [{'id': 'e3iltfr', 'type': 'geojson', 'config': {'dataId': 'Earthquakes', 'label': 'Earthquakes', 'color': [241, 92, 23], 'highlightColor': [252, 242, 26, 255], 'columns': {'geojson': 'geometry'}, 'isVisible': True, 'visConfig': {'opacity': 0.51, 'strokeOpacity': 0.8, 'thickness': 0.5, 'strokeColor': None, 'colorRange': {'name': 'ColorBrewer Oranges-9', 'type': 'singlehue', 'category': 'ColorBrewer', 'colors': ['#fff5eb', '#fee6ce', '#fdd0a2', '#fdae6b', '#fd8d3c', '#f16913', '#d94801', '#a63603', '#7f2704']}, 'strokeColorRange': {'name': 'Global Warming', 'type': 'sequential', 'category': 'Uber', 'colors': ['#5A1846', '#900C3F', '#C70039', '#E3611C', '#F1920E', '#FFC300']}, 'radius': 10, 'sizeRange': [0, 10], 'radiusRange': [0, 100], 'heightRange': [0, 500], 'elevationScale': 5, 'enableElevationZoomFactor': True, 'stroked': True, 'filled': True, 'enable3d': False, 'wireframe': False}, 'hidden': False, 'textLabel': [{'field': None, 'color': [255, 255, 255], 'size': 18, 'offset': [0, 0], 'anchor': 'start', 'alignment': 'center'}]}, 'visualChannels': {'colorField': {'name': 'mag_value', 'type': 'real'}, 'colorScale': 'quantile', 'strokeColorField': None, 'strokeColorScale': 'quantile', 'sizeField': None, 'sizeScale': 'linear', 'heightField': None, 'heightScale': 'linear', 'radiusField': {'name': 'mag_value', 'type': 'real'}, 'radiusScale': 'sqrt'}}], 'interactionConfig': {'tooltip': {'fieldsToShow': {'Earthquakes': [{'name': 'time', 'format': None}, {'name': 'mag', 'format': None}, {'name': 'depth', 'format': None}, {'name': 'mag_value', 'format': None}]}, 'compareMode': False, 'compareType': 'absolute', 'enabled': True}, 'brush': {'size': 0.5, 'enabled': False}, 'geocoder': {'enabled': False}, 'coordinate': {'enabled': False}}, 'layerBlending': 'normal', 'splitMaps': [], 'animationConfig': {'currentTime': None, 'speed': 1}}, 'mapState': {'bearing': 0, 'dragRotate': False, 'latitude': 33.675672229699764, 'longitude': -117.63364321134047, 'pitch': 0, 'zoom': 6.716699698334183, 'isSplit': False}, 'mapStyle': {'styleType': 'dark', 'topLayerGroups': {'label': True}, 'visibleLayerGroups': {'label': True, 'road': True, 'border': False, 'building': True, 'water': True, 'land': True, '3d building': False}, 'threeDBuildingColor': [9.665468314072013, 17.18305478057247, 31.1442867897876], 'mapStyles': {}}}}\n"
     ]
    }
   ],
   "source": [
    "print(map_1.config)"
   ]
  }
 ],
 "metadata": {
  "kernelspec": {
   "display_name": "fused_ex_venv",
   "language": "python",
   "name": "python3"
  },
  "language_info": {
   "codemirror_mode": {
    "name": "ipython",
    "version": 3
   },
   "file_extension": ".py",
   "mimetype": "text/x-python",
   "name": "python",
   "nbconvert_exporter": "python",
   "pygments_lexer": "ipython3",
   "version": "3.11.1"
  }
 },
 "nbformat": 4,
 "nbformat_minor": 2
}
